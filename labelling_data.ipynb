{
 "cells": [
  {
   "cell_type": "markdown",
   "metadata": {},
   "source": [
    "#### Get Data for LDA vs clustering"
   ]
  },
  {
   "cell_type": "code",
   "execution_count": 17,
   "metadata": {
    "collapsed": false
   },
   "outputs": [
    {
     "data": {
      "text/html": [
       "<script>jQuery(function() {if (jQuery(\"body.notebook_app\").length == 0) { jQuery(\".input_area\").toggle(); jQuery(\".prompt\").toggle();}});</script>"
      ]
     },
     "metadata": {},
     "output_type": "display_data"
    },
    {
     "name": "stdout",
     "output_type": "stream",
     "text": [
      "Database(MongoClient('localhost', 27017), 'tweet_db')\n"
     ]
    }
   ],
   "source": [
    "import pandas as pd\n",
    "from pymongo import MongoClient\n",
    "import csv\n",
    "\n",
    "import IPython.core.display as di\n",
    "# This line will hide code by default when the notebook is exported as HTML\n",
    "di.display_html('<script>jQuery(function() {if (jQuery(\"body.notebook_app\").length == 0) { jQuery(\".input_area\").toggle(); jQuery(\".prompt\").toggle();}});</script>', raw=True)\n",
    "\n",
    "\n",
    "conn = MongoClient(\"localhost\", 27017)\n",
    "db = conn['tweet_db']\n",
    "\n",
    "print (db)\n",
    "collection_name = \"AmericanCrime_tweets\"\n",
    "collection = db[collection_name]"
   ]
  },
  {
   "cell_type": "code",
   "execution_count": 2,
   "metadata": {
    "collapsed": false
   },
   "outputs": [
    {
     "name": "stdout",
     "output_type": "stream",
     "text": [
      "                         _id      screen_name     time_stamp  \\\n",
      "0   574738d07bc786238dea659c  CandiceNicolePR  1424904253000   \n",
      "1   574738d07bc786238dea659d  CandiceNicolePR  1424901178000   \n",
      "2   574738d07bc786238dea659e  CandiceNicolePR  1424901126000   \n",
      "3   574738d07bc786238dea659f  CandiceNicolePR  1424901049000   \n",
      "4   574738d07bc786238dea65a0  CandiceNicolePR  1424901026000   \n",
      "5   574738d07bc786238dea65a1  CandiceNicolePR  1424900932000   \n",
      "6   574738d07bc786238dea65a2  CandiceNicolePR  1424900893000   \n",
      "7   574738d07bc786238dea65a3  CandiceNicolePR  1424900859000   \n",
      "8   574738d07bc786238dea65a4  CandiceNicolePR  1424900818000   \n",
      "9   574738d07bc786238dea65a5  CandiceNicolePR  1424900343000   \n",
      "10  574738d07bc786238dea65a6  CandiceNicolePR  1424897849000   \n",
      "11  574738d07bc786238dea65a7  CandiceNicolePR  1424896653000   \n",
      "12  574738d07bc786238dea65a8  CandiceNicolePR  1424895769000   \n",
      "13  574738d07bc786238dea65a9  CandiceNicolePR  1424894677000   \n",
      "14  574738d07bc786238dea65aa  CandiceNicolePR  1424888867000   \n",
      "15  574738d07bc786238dea65ab  CandiceNicolePR  1424888752000   \n",
      "16  574738d07bc786238dea65ac  CandiceNicolePR  1424888666000   \n",
      "17  574738d07bc786238dea65ad  CandiceNicolePR  1424888582000   \n",
      "18  574738d07bc786238dea65ae  CandiceNicolePR  1424888526000   \n",
      "19  574738d07bc786238dea65af  CandiceNicolePR  1424886998000   \n",
      "\n",
      "                                                tweet   user_id  \n",
      "0   30 jobs in the PR and marketing world http://b...  16174912  \n",
      "1   theJASMINEBRAND: Zendaya Accepts Giuliana Ranc...  16174912  \n",
      "2   Man, I lowkey can't wait to get home and watch...  16174912  \n",
      "3             It's just time to stop the \"WOO IS ME!\"  16174912  \n",
      "4   I think a lot of what I just tweeted went over...  16174912  \n",
      "5   Make your money, invest ...then do your OWN th...  16174912  \n",
      "6   That is all it is...learn the business, learn ...  16174912  \n",
      "7   It's plain & simple sometimes folks. Stop bein...  16174912  \n",
      "8   I have to give it to Mo'Nique and that stunt o...  16174912  \n",
      "9   WHO DID THIS?! I am HOLLERING over here!! Man-...  16174912  \n",
      "10  theJASMINEBRAND: Elle Style Awards: Jourdan Du...  16174912  \n",
      "11  ...and we care because? -> via @XXL Afroman ha...  16174912  \n",
      "12  theJasmineBRAND: ‘Focus’ Hosts LA Premiere: Wi...  16174912  \n",
      "13  @Karmalifee @IKAMProd Thanks so much for posti...  16174912  \n",
      "14  It's time for lunch and time for me to talk to...  16174912  \n",
      "15  @berngiacomazzo YES!! Like who even started th...  16174912  \n",
      "16  @berngiacomazzo It causes my soul to be sad ev...  16174912  \n",
      "17  I am still confused to why folks take pictures...  16174912  \n",
      "18  Man....Kanye is a mess.... Makes me laugh thou...  16174912  \n",
      "19  theJasmineBRAND: (EXCLUSIVE) Jay Z Refuses to ...  16174912  \n"
     ]
    }
   ],
   "source": [
    "cursor = collection.find()\n",
    "df = pd.DataFrame(list(cursor))\n",
    "print(df[:20])"
   ]
  },
  {
   "cell_type": "code",
   "execution_count": 47,
   "metadata": {
    "collapsed": false
   },
   "outputs": [
    {
     "name": "stdout",
     "output_type": "stream",
     "text": [
      "Hashtag used\n",
      "['#politics', '#art', '#music', '#tech', '#money', '#business', '#food', '#sport', '#tv']\n"
     ]
    }
   ],
   "source": [
    "list_of_hashtags = ['#politics' ,'#art', '#music', \n",
    "                    '#tech', '#money', '#business', '#food','#sport', '#tv']\n",
    "print(\"Hashtag used\")\n",
    "print(list_of_hashtags)"
   ]
  },
  {
   "cell_type": "code",
   "execution_count": 48,
   "metadata": {
    "collapsed": false
   },
   "outputs": [],
   "source": [
    "group_user = df.groupby('user_id')\n",
    "count = 0\n",
    "out = 'data_comparison.csv'\n",
    "writer = csv.writer(open(out, 'w', newline=''))\n",
    "for each_group, content in group_user:\n",
    "    count_per_user = 0\n",
    "    for each_entry, data in content.iterrows():\n",
    "        for each_ht in list_of_hashtags:\n",
    "            if each_ht in data[3]:\n",
    "                row = []\n",
    "                row.append(each_group)  # user_id\n",
    "                row.append(data[1])\n",
    "                row.append(data[3])\n",
    "                row.append(each_ht)\n",
    "                print(row)\n",
    "                writer.writerow(row)\n",
    "                count_per_user += 1\n",
    "            break   \n",
    "    count += 1\n",
    "    if count == 20:\n",
    "        break"
   ]
  },
  {
   "cell_type": "code",
   "execution_count": null,
   "metadata": {
    "collapsed": true
   },
   "outputs": [],
   "source": []
  }
 ],
 "metadata": {
  "kernelspec": {
   "display_name": "Python 3",
   "language": "python",
   "name": "python3"
  },
  "language_info": {
   "codemirror_mode": {
    "name": "ipython",
    "version": 3
   },
   "file_extension": ".py",
   "mimetype": "text/x-python",
   "name": "python",
   "nbconvert_exporter": "python",
   "pygments_lexer": "ipython3",
   "version": "3.5.1"
  }
 },
 "nbformat": 4,
 "nbformat_minor": 0
}
