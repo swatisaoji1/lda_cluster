{
 "cells": [
  {
   "cell_type": "markdown",
   "metadata": {},
   "source": [
    "## User Similarity Based on tweet Clustering\n",
    "___\n",
    "\n",
    "Description :  \n",
    "  \n",
    "For this experiment, I selected random 65 users from AmericanCrime TV show and to get the sample of labelled tweets , I chose the tweets that have following hashtags :  \n",
    "\n",
    "`hashtags = ['#politics', '#art', '#games', '#fashion', '#music', '#news']`  \n",
    "\n",
    "This allowed be to use thse hashtags as true labels.  \n"
   ]
  },
  {
   "cell_type": "code",
   "execution_count": 1,
   "metadata": {
    "collapsed": false
   },
   "outputs": [
    {
     "data": {
      "text/html": [
       "<script>jQuery(function() {if (jQuery(\"body.notebook_app\").length == 0) { jQuery(\".input_area\").toggle(); jQuery(\".prompt\").toggle();}});</script>"
      ]
     },
     "metadata": {},
     "output_type": "display_data"
    }
   ],
   "source": [
    "%matplotlib inline\n",
    "import IPython.core.display as di\n",
    "# This line will hide code by default when the notebook is exported as HTML\n",
    "di.display_html('<script>jQuery(function() {if (jQuery(\"body.notebook_app\").length == 0) { jQuery(\".input_area\").toggle(); jQuery(\".prompt\").toggle();}});</script>', raw=True)\n"
   ]
  },
  {
   "cell_type": "code",
   "execution_count": 70,
   "metadata": {
    "collapsed": true
   },
   "outputs": [],
   "source": [
    "# imports\n",
    "import pandas as pd\n",
    "import numpy as np\n",
    "import nltk\n",
    "from nltk.stem.snowball import SnowballStemmer\n",
    "from nltk.stem import WordNetLemmatizer\n",
    "from nltk import pos_tag\n",
    "import re\n",
    "from sklearn.feature_extraction.text import TfidfVectorizer\n",
    "from functools import lru_cache\n",
    "from sklearn.cluster import KMeans, Birch, SpectralClustering, DBSCAN\n",
    "from sklearn import mixture\n",
    "import matplotlib.pyplot as plt\n",
    "from sklearn.metrics import silhouette_samples, silhouette_score\n",
    "from sklearn import metrics\n",
    "from sklearn.metrics import pairwise_distances\n",
    "from sklearn.metrics.pairwise import cosine_similarity"
   ]
  },
  {
   "cell_type": "code",
   "execution_count": 13,
   "metadata": {
    "collapsed": true
   },
   "outputs": [],
   "source": [
    "# initializing lemmatizer\n",
    "stemmer = SnowballStemmer(\"english\")\n",
    "wordnet_lemmatizer = WordNetLemmatizer()\n",
    "lemmatize = lru_cache(maxsize=50000)(wordnet_lemmatizer.lemmatize)\n",
    " \n",
    "# ===========helper methods ========================================\n",
    "def remove_non_ascii(s):\n",
    "    return \"\".join(i for i in s if ord(i) < 128)\n",
    "\n",
    "def stop_words_list():\n",
    "    \"\"\"\n",
    "        A stop list specific to the observed timelines composed of noisy words\n",
    "        This list would change for different set of timelines\n",
    "    \"\"\"\n",
    "    stop_words = ['bc', 'http', 'https', 'co', 'rt', 'one', 'us', 'new',\n",
    "              'lol', 'may', 'get', 'want', 'like', 'love', 'no', 'thank', 'would', 'thanks',\n",
    "              'via', 'today', 'gt', 'great', 'watch', 'watched', 'season',\n",
    "              '00p']\n",
    "\n",
    "    stoplist  = set( nltk.corpus.stopwords.words(\"english\") + stop_words)\n",
    "    return stoplist\n",
    "\n",
    "def remove_urls(text):\n",
    "    text = re.sub(r\"(?:\\@|http?\\://)\\S+\", \"\", text)\n",
    "    text = re.sub(r\"(?:\\@|https?\\://)\\S+\", \"\", text)\n",
    "    return text\n",
    "\n",
    "def get_wordnet_pos(treebank_tag):\n",
    "    if treebank_tag.startswith('J'):\n",
    "        return 'a'\n",
    "    elif treebank_tag.startswith('V'):\n",
    "        return 'v'\n",
    "    elif treebank_tag.startswith('N'):\n",
    "        return 'n'\n",
    "    elif treebank_tag.startswith('R'):\n",
    "        return 'r'\n",
    "    else:\n",
    "        return None\n",
    "\n",
    "def tokenize(text):\n",
    "    \"\"\"\n",
    "    helper function to readTweets() removes url and tokenizes text\n",
    "    :param text\n",
    "    \"\"\"\n",
    "    text = remove_urls(text)\n",
    "    text = remove_non_ascii(text)\n",
    "    text = re.sub(r\"\"\"[\\'\\\"]\"\"\",'', text)\n",
    "    regexps = (\n",
    "        r\"\"\"(?:[\\w_]+)\"\"\",                          # regular word\n",
    "        r\"\"\"(?:[a-z][a-z'\\-_]+[a-z])\"\"\"             # word with an apostrophe or a dash\n",
    "    )\n",
    "    tokens_regexp = re.compile(r\"\"\"(%s)\"\"\" % \"|\".join(regexps),\n",
    "                               re.VERBOSE | re.I | re.UNICODE)\n",
    "    return tokens_regexp.findall(text)\n",
    "\n",
    "def replace_acronym(tokens, slang_dict):\n",
    "    new_tokens = []\n",
    "    for token in tokens:\n",
    "        if token in slang_dict:\n",
    "            new_tokens.extend(slang_dict[token].split())\n",
    "        else:\n",
    "            new_tokens.append(token)\n",
    "    return new_tokens\n",
    "\n",
    "def tokenize_and_lemmatize(text, slang_dict, stop_words):\n",
    "    # get the tokens, lowercase - replace acronym\n",
    "    lowered = [item.lower() for item in tokenize(text)]\n",
    "    tokens = replace_acronym(lowered, slang_dict)\n",
    "\n",
    "    \n",
    "    tokens_pos = pos_tag(tokens)\n",
    "    words = []\n",
    "    for token in tokens_pos:\n",
    "        pos = get_wordnet_pos(token[1])\n",
    "        # if verb, noun, adj or adverb include them after lemmatization\n",
    "        if pos is not None and token[0] not in stop_words:\n",
    "            try:\n",
    "                tok = lemmatize(token[0], pos)\n",
    "                words.append(tok)\n",
    "            except UnicodeDecodeError:\n",
    "                pass\n",
    "    # print words\n",
    "    return words\n",
    "\n",
    "def read_in_dict(filename):\n",
    "    dict = {}\n",
    "    with open(filename) as f:\n",
    "        for line in f.readlines():\n",
    "            parts = line.partition(\":\")\n",
    "            dict[parts[0].strip()] = parts[2].strip()\n",
    "    return dict"
   ]
  },
  {
   "cell_type": "markdown",
   "metadata": {},
   "source": [
    "##### The input :\n",
    "___\n",
    "\n",
    "The file used as input in this experiment is created by selecting specific hashtags from the tweets of the users who tweet about AmericanCrime"
   ]
  },
  {
   "cell_type": "code",
   "execution_count": 28,
   "metadata": {
    "collapsed": false
   },
   "outputs": [
    {
     "name": "stdout",
     "output_type": "stream",
     "text": [
      "data/tweet_AmericanCrime_selected_labelled.csv\n"
     ]
    }
   ],
   "source": [
    "filename = \"data/tweet_AmericanCrime_selected_labelled.csv\"\n",
    "LABEL = \"tweet_AmericanCrime_selected_labelled\"\n",
    "print(filename)"
   ]
  },
  {
   "cell_type": "code",
   "execution_count": 6,
   "metadata": {
    "collapsed": false
   },
   "outputs": [
    {
     "name": "stdout",
     "output_type": "stream",
     "text": [
      "   Unnamed: 0       user                                              tweet  \\\n",
      "0           0   29231236  We like having options! #clue #cluegame #vinta...   \n",
      "1           1   29231236  RT @AdviceToWriters: Mystery is the basic elem...   \n",
      "2           2  189333010  RT @eggo: At least there's one thing we can ag...   \n",
      "3           3  189333010  RT @TheRealTahiry: How can I not love her @cia...   \n",
      "4           4  189333010  RT @USPSbiz: We joined forces with @Poshmarkap...   \n",
      "\n",
      "       label  \n",
      "0     #games  \n",
      "1       #art  \n",
      "2  #politics  \n",
      "3   #fashion  \n",
      "4   #fashion  \n"
     ]
    }
   ],
   "source": [
    "df = pd.read_csv(filename)\n",
    "print (\"Snippet of the dataframe : \")\n",
    "print (df.head())"
   ]
  },
  {
   "cell_type": "markdown",
   "metadata": {},
   "source": [
    "##### An Intial look at the topic distribution\n",
    "___\n"
   ]
  },
  {
   "cell_type": "code",
   "execution_count": 77,
   "metadata": {
    "collapsed": false
   },
   "outputs": [
    {
     "name": "stdout",
     "output_type": "stream",
     "text": [
      "                    Unnamed: 0  tweet  cluster\n",
      "user     label                                \n",
      "10023372 #art                1      1        1\n",
      "         #fashion            2      2        2\n",
      "         #games              1      1        1\n",
      "         #music              1      1        1\n",
      "         #politics           1      1        1\n",
      "16582002 #music              1      1        1\n",
      "         #news               1      1        1\n",
      "16625554 #music              1      1        1\n",
      "         #news               1      1        1\n",
      "19087781 #fashion            1      1        1\n",
      "         #music              1      1        1\n",
      "         #news               2      2        2\n",
      "20942633 #art                2      2        2\n",
      "         #fashion            6      6        6\n",
      "         #news               2      2        2\n",
      "         #politics           2      2        2\n",
      "24102642 #art                2      2        2\n",
      "         #music              2      2        2\n",
      "29231236 #art                2      2        2\n",
      "         #games              2      2        2\n"
     ]
    }
   ],
   "source": [
    "df_grouped = df.groupby(['user', 'label'])\n",
    "print(df_grouped.count()[:20])"
   ]
  },
  {
   "cell_type": "code",
   "execution_count": 102,
   "metadata": {
    "collapsed": false
   },
   "outputs": [
    {
     "name": "stdout",
     "output_type": "stream",
     "text": [
      "unique users: 65 \n",
      "unique labels: 6 \n"
     ]
    },
    {
     "data": {
      "text/plain": [
       "<matplotlib.axes._subplots.AxesSubplot at 0x7fae2d39add8>"
      ]
     },
     "execution_count": 102,
     "metadata": {},
     "output_type": "execute_result"
    },
    {
     "data": {
      "image/png": "[encoded data removed]",
      "text/plain": [
       "<matplotlib.figure.Figure at 0x7fae2d3a7b38>"
      ]
     },
     "metadata": {},
     "output_type": "display_data"
    }
   ],
   "source": [
    "print(\"unique users: %d \" % df.user.nunique())\n",
    "print(\"unique labels: %d \" % df.label.nunique())\n",
    "\n",
    "\n",
    "df.user.value_counts().hist()"
   ]
  },
  {
   "cell_type": "markdown",
   "metadata": {},
   "source": [
    "##### Take the tweets from the dataframe for clustering\n",
    "___\n",
    "a snippet of tweets:"
   ]
  },
  {
   "cell_type": "code",
   "execution_count": 17,
   "metadata": {
    "collapsed": false
   },
   "outputs": [
    {
     "name": "stdout",
     "output_type": "stream",
     "text": [
      "[ 'We like having options! #clue #cluegame #vintageclue #hitchcockclue #options #games https://t.co/p66KXzLGGn'\n",
      " 'RT @AdviceToWriters: Mystery is the basic element of all works of art.\\nLUIS BUUEL\\n#art #literature #writing #writetip'\n",
      " \"RT @eggo: At least there's one thing we can agree on: Waffles are great. #politics #LeggoMyEggo https://t.co/MzpSu7hCIC\"\n",
      " 'RT @TheRealTahiry: How can I not love her @ciara  #style #fashion #metgala #manusxmachina #metgala2016 #ciara https://t.co/INj9zvdBsU'\n",
      " 'RT @USPSbiz: We joined forces with @Poshmarkapp to create Posh Post  a #shipping collaboration for #fashion. See how. https://t.co/1riWB']\n"
     ]
    }
   ],
   "source": [
    "# convert the pandas series (tweet text) to numpy array\n",
    "text = df.iloc[:, 2]\n",
    "tweet_text = np.array(text)\n",
    "print(tweet_text[:5])"
   ]
  },
  {
   "cell_type": "markdown",
   "metadata": {},
   "source": [
    "###### TFIDF model creation\n",
    "\n",
    "TFIDF model for created:\n",
    "Preprocessing and tokenization done.\n",
    "\n",
    "Preprocessing included  \n",
    "* URL removal\n",
    "* non-ascii removal\n",
    "* stop word removal\n",
    "* slang replacement (acronym replacement)\n",
    "* TOS tagging (included only verbs, nowns, adverb and adjectives)\n",
    "* lemmatization\n"
   ]
  },
  {
   "cell_type": "code",
   "execution_count": 105,
   "metadata": {
    "collapsed": false
   },
   "outputs": [
    {
     "name": "stdout",
     "output_type": "stream",
     "text": [
      "Created TFIDF ============\n",
      "(331, 261)\n"
     ]
    }
   ],
   "source": [
    "def get_tfidf_model(texts, stop_words= None, slang_dict=None):\n",
    "    stop_words = stop_words_list()\n",
    "    vectorizer = TfidfVectorizer(tokenizer=lambda text: tokenize_and_lemmatize(text, slang_dict, stop_words),\n",
    "                                 stop_words=None,\n",
    "                                 max_df=0.9,\n",
    "                                 min_df=3,\n",
    "                                 lowercase=True,\n",
    "                                 decode_error='ignore',\n",
    "                                 )\n",
    "    \n",
    "    #print (\"vocabulary_: \", vectorizer.vocabulary_)\n",
    "    \n",
    "    tfidf_model = vectorizer.fit_transform(texts)\n",
    "    return tfidf_model, vectorizer\n",
    "    \n",
    "\n",
    "slang_dict = read_in_dict(\"data/out_slang_map.csv\")\n",
    "tfidf_model, vectorizer = get_tfidf_model(tweet_text[:1000], stop_words_list(), slang_dict)\n",
    "#print(vectorizer)\n",
    "\n",
    "print(\"Created TFIDF ============\")\n",
    "print(tfidf_model.shape)"
   ]
  },
  {
   "cell_type": "markdown",
   "metadata": {},
   "source": [
    "##### GMM EM - clusters estimation\n",
    "___\n"
   ]
  },
  {
   "cell_type": "code",
   "execution_count": 19,
   "metadata": {
    "collapsed": false
   },
   "outputs": [
    {
     "name": "stdout",
     "output_type": "stream",
     "text": [
      "GMM(covariance_type='diag', init_params='wmc', min_covar=0.001,\n",
      "  n_components=10, n_init=10, n_iter=500, params='wmc', random_state=None,\n",
      "  thresh=None, tol=0.001, verbose=0)\n"
     ]
    }
   ],
   "source": [
    "# gmm maximisation\n",
    "clf = mixture.GMM(n_components=10, n_iter=500, n_init=10)\n",
    "print (clf)"
   ]
  },
  {
   "cell_type": "markdown",
   "metadata": {},
   "source": [
    "Aikaki Information Criteria(AIC) and the Bayesian Information Criterion(BIC)"
   ]
  },
  {
   "cell_type": "code",
   "execution_count": 20,
   "metadata": {
    "collapsed": false
   },
   "outputs": [
    {
     "data": {
      "text/plain": [
       "<matplotlib.legend.Legend at 0x7fae2d92b7b8>"
      ]
     },
     "execution_count": 20,
     "metadata": {},
     "output_type": "execute_result"
    },
    {
     "data": {
      "image/png": "[encoded data removed]",
      "text/plain": [
       "<matplotlib.figure.Figure at 0x7fae33fa2a90>"
      ]
     },
     "metadata": {},
     "output_type": "display_data"
    }
   ],
   "source": [
    "n_estimators = np.arange(2,50, step=2)\n",
    "tfarray = tfidf_model.toarray()\n",
    "clfs = [mixture.GMM(n, n_iter=500).fit(tfarray) for n in n_estimators]\n",
    "bics = [clf.bic(tfarray) for clf in clfs]\n",
    "aics = [clf.aic(tfarray) for clf in clfs]\n",
    "\n",
    "plt.plot(n_estimators, bics, label= 'BIC')\n",
    "plt.plot(n_estimators, aics, label= 'AIC')\n",
    "plt.legend()"
   ]
  },
  {
   "cell_type": "code",
   "execution_count": 21,
   "metadata": {
    "collapsed": false
   },
   "outputs": [
    {
     "name": "stdout",
     "output_type": "stream",
     "text": [
      "n             bic              aic \n",
      "2             -285987              -289960\n",
      "3             -308369              -314331\n",
      "4             -319622              -327572\n",
      "5             -325861              -335800\n",
      "6             -329586              -341514\n",
      "7             -334681              -348596\n",
      "8             -332088              -347992\n",
      "9             -332687              -350580\n",
      "10             -338275              -358156\n",
      "11             -335535              -357405\n"
     ]
    },
    {
     "data": {
      "image/png": "[encoded data removed]",
      "text/plain": [
       "<matplotlib.figure.Figure at 0x7fae33fa2f60>"
      ]
     },
     "metadata": {},
     "output_type": "display_data"
    }
   ],
   "source": [
    "n_estimators = np.arange(2,12, step=1)\n",
    "tfarray = tfidf_model.toarray()\n",
    "clfs = [mixture.GMM(n, n_iter=500).fit(tfarray) for n in n_estimators]\n",
    "bics = [clf.bic(tfarray) for clf in clfs]\n",
    "aics = [clf.aic(tfarray) for clf in clfs]\n",
    "\n",
    "plt.plot(n_estimators, bics, label= 'BIC')\n",
    "plt.plot(n_estimators, aics, label= 'AIC')\n",
    "plt.legend()\n",
    "\n",
    "i = 1\n",
    "print(\"n             bic              aic \")\n",
    "for x, y in zip(bics, aics):\n",
    "    i += 1\n",
    "    print(\"%d             %d              %d\" % (i, x, y) )"
   ]
  },
  {
   "cell_type": "markdown",
   "metadata": {},
   "source": [
    "##### Eyeballing GMM graph\n",
    "___\n",
    "\n",
    "GMM EM gives 7 clusters\n"
   ]
  },
  {
   "cell_type": "markdown",
   "metadata": {},
   "source": [
    "##### Running K Means\n",
    "___"
   ]
  },
  {
   "cell_type": "code",
   "execution_count": 29,
   "metadata": {
    "collapsed": false
   },
   "outputs": [
    {
     "name": "stdout",
     "output_type": "stream",
     "text": [
      "Silhouette score                   : 0.057470\n",
      "Adjusted Rand Score                : 0.506021\n",
      "Adjusted Mutual Information Score  : 0.521034\n",
      "Normalized Mutual Information Score: 0.583468\n",
      "Normalized Mutual Information Score: 0.583468\n",
      "Homogeniety Score                  : 0.637927\n",
      "Completeness Score                 : 0.533659\n",
      "<class 'numpy.ndarray'>\n",
      "   Unnamed: 0       user                                              tweet  \\\n",
      "0           0   29231236  We like having options! #clue #cluegame #vinta...   \n",
      "1           1   29231236  RT @AdviceToWriters: Mystery is the basic elem...   \n",
      "2           2  189333010  RT @eggo: At least there's one thing we can ag...   \n",
      "3           3  189333010  RT @TheRealTahiry: How can I not love her @cia...   \n",
      "4           4  189333010  RT @USPSbiz: We joined forces with @Poshmarkap...   \n",
      "\n",
      "       label  cluster  \n",
      "0     #games        1  \n",
      "1       #art        4  \n",
      "2  #politics        1  \n",
      "3   #fashion        5  \n",
      "4   #fashion        5  \n"
     ]
    }
   ],
   "source": [
    "# true labels\n",
    "t_labels = df.iloc[:, 3]\n",
    "\n",
    "# run k means :\n",
    "clusters = 7\n",
    "km_model = KMeans(n_clusters=clusters)\n",
    "cluster = km_model.fit_predict(tfidf_model)\n",
    "\n",
    "# result analysis :\n",
    "print(\"Silhouette score                   : %f\" % silhouette_score(tfidf_model, cluster, sample_size=2000))\n",
    "print(\"Adjusted Rand Score                : %f\" % metrics.adjusted_rand_score(t_labels, cluster))\n",
    "print(\"Adjusted Mutual Information Score  : %f\" % metrics.adjusted_mutual_info_score(t_labels, cluster))\n",
    "print(\"Normalized Mutual Information Score: %f\" % metrics.normalized_mutual_info_score(t_labels, cluster))\n",
    "print(\"Normalized Mutual Information Score: %f\" % metrics.normalized_mutual_info_score(t_labels, cluster))\n",
    "print(\"Homogeniety Score                  : %f\" % metrics.homogeneity_score(t_labels, cluster))\n",
    "print(\"Completeness Score                 : %f\" % metrics.completeness_score(t_labels, cluster))\n",
    "\n",
    "print(type(cluster))\n",
    "df.loc[:, 'cluster'] = pd.Series(cluster)\n",
    "print(df[:5])\n",
    "df.to_csv(\"results/kmeans_\" + LABEL + \".csv\")"
   ]
  },
  {
   "cell_type": "code",
   "execution_count": 30,
   "metadata": {
    "collapsed": false
   },
   "outputs": [
    {
     "name": "stdout",
     "output_type": "stream",
     "text": [
      "Cluster 0: news roger countrymusic osmanl german rte hockey video gameofthrones throne\n",
      "Cluster 1: roger politics follow game significant get artsy yesterday time detail\n",
      "Cluster 2: terminal c4ac event late fashionshow picture mean man loud festival\n",
      "Cluster 3: video live music roger hiphop newmusic musicvideo jackson artist family\n",
      "Cluster 4: art roger painting design time message booty gifs artist instant\n",
      "Cluster 5: fashion style roger good fashionista tag post houseofholland day feel\n",
      "Cluster 6: music roger song listen moses blue make xx giveaway follow\n"
     ]
    }
   ],
   "source": [
    "# top 10 words in a cluster\n",
    "order_centroids = km_model.cluster_centers_.argsort()[:, ::-1]\n",
    "terms = vectorizer.get_feature_names()\n",
    "for i in range(clusters):\n",
    "    print(\"Cluster %d:\" % i, end='')\n",
    "    for ind in order_centroids[i, :10]:\n",
    "        print(' %s' % terms[ind], end='')\n",
    "    print()"
   ]
  },
  {
   "cell_type": "markdown",
   "metadata": {},
   "source": [
    "#### Calculating Similarity\n",
    "___\n"
   ]
  },
  {
   "cell_type": "code",
   "execution_count": 57,
   "metadata": {
    "collapsed": true
   },
   "outputs": [],
   "source": [
    "# group by clusters\n",
    "def get_user_tuples(df):\n",
    "    grouped_user = df.groupby('user')\n",
    "    grouped_clusters = df.groupby(['user', 'cluster'])\n",
    "    clusters = df.cluster.unique()\n",
    "    users = []\n",
    "    user_names = []\n",
    "    for name, group in grouped_user:\n",
    "        user_tuple = []\n",
    "        total_tweets = len(group)\n",
    "        for each_clusters in clusters:\n",
    "            try:\n",
    "                g = grouped_clusters.get_group((name,each_clusters))\n",
    "                user_tuple.append(len(g)/total_tweets)\n",
    "            except KeyError:\n",
    "                user_tuple.append(0)\n",
    "        users.append((user_tuple))\n",
    "        user_names.append((name))\n",
    "    return users, user_names\n"
   ]
  },
  {
   "cell_type": "code",
   "execution_count": 107,
   "metadata": {
    "collapsed": false
   },
   "outputs": [
    {
     "name": "stdout",
     "output_type": "stream",
     "text": [
      "Vector tuples : \n",
      "[[0.5, 0.16666666666666666, 0.16666666666666666, 0.16666666666666666, 0, 0, 0], [0, 0, 0, 0.5, 0.5, 0, 0], [1.0, 0, 0, 0, 0, 0, 0], [0.75, 0, 0.25, 0, 0, 0, 0], [0.25, 0.16666666666666666, 0.5, 0, 0, 0.08333333333333333, 0]]\n",
      "\n",
      "User- Ids : \n",
      "[10023372, 16582002, 16625554, 19087781, 20942633]\n"
     ]
    }
   ],
   "source": [
    "user_tuples, user_names = get_user_tuples(df)\n",
    "print (\"Vector tuples : \")\n",
    "print(user_tuples[:5])\n",
    "\n",
    "print (\"\\nUser- Ids : \")\n",
    "print(user_names[:5])\n"
   ]
  },
  {
   "cell_type": "markdown",
   "metadata": {},
   "source": [
    "##### Pairwise Cosine Similarity\n",
    "___"
   ]
  },
  {
   "cell_type": "code",
   "execution_count": 73,
   "metadata": {
    "collapsed": false
   },
   "outputs": [
    {
     "name": "stdout",
     "output_type": "stream",
     "text": [
      "[[ 1.          0.20412415  0.8660254  ...,  0.40824829  0.8660254\n",
      "   0.63828474]\n",
      " [ 0.20412415  1.          0.         ...,  0.          0.          0.14213381]\n",
      " [ 0.8660254   0.          1.         ...,  0.          1.          0.50251891]\n",
      " ..., \n",
      " [ 0.40824829  0.          0.         ...,  1.          0.          0.49746834]\n",
      " [ 0.8660254   0.          1.         ...,  0.          1.          0.50251891]\n",
      " [ 0.63828474  0.14213381  0.50251891 ...,  0.49746834  0.50251891  1.        ]]\n"
     ]
    }
   ],
   "source": [
    "dist = cosine_similarity(user_tuples)\n",
    "print(dist)"
   ]
  },
  {
   "cell_type": "code",
   "execution_count": 111,
   "metadata": {
    "collapsed": false
   },
   "outputs": [
    {
     "name": "stdout",
     "output_type": "stream",
     "text": [
      "user: 10023372 -->[0.5, 0.16666666666666666, 0.16666666666666666, 0.16666666666666666, 0, 0, 0]\n",
      "user: 16582002 -->[0, 0, 0, 0.5, 0.5, 0, 0]\n",
      "\n",
      "Similarity between user: 10023372 and user: 16582002 is\n",
      "0.204124145232\n"
     ]
    }
   ],
   "source": [
    "print(\"user: %d -->\"% (user_names[0]), end='')\n",
    "print(user_tuples[0])\n",
    "print(\"user: %d -->\"% (user_names[1]), end='')\n",
    "print(user_tuples[1])\n",
    "print(\"\\nSimilarity between user: %d and user: %d is\"% (user_names[0], user_names[1]))\n",
    "print(dist[0,1])"
   ]
  },
  {
   "cell_type": "code",
   "execution_count": 112,
   "metadata": {
    "collapsed": false
   },
   "outputs": [
    {
     "name": "stdout",
     "output_type": "stream",
     "text": [
      "user: 16582002 -->[0, 0, 0, 0.5, 0.5, 0, 0]\n",
      "user: 16625554 -->[1.0, 0, 0, 0, 0, 0, 0]\n",
      "\n",
      "Similarity between user: 16582002 and user: 16625554 is\n",
      "0.0\n"
     ]
    }
   ],
   "source": [
    "print(\"user: %d -->\"% (user_names[1]), end='')\n",
    "print(user_tuples[1])\n",
    "print(\"user: %d -->\"% (user_names[2]), end='')\n",
    "print(user_tuples[2])\n",
    "print(\"\\nSimilarity between user: %d and user: %d is\"% (user_names[1], user_names[2]))\n",
    "print(dist[1,2])"
   ]
  }
 ],
 "metadata": {
  "kernelspec": {
   "display_name": "Python 3",
   "language": "python",
   "name": "python3"
  },
  "language_info": {
   "codemirror_mode": {
    "name": "ipython",
    "version": 3
   },
   "file_extension": ".py",
   "mimetype": "text/x-python",
   "name": "python",
   "nbconvert_exporter": "python",
   "pygments_lexer": "ipython3",
   "version": "3.5.1"
  }
 },
 "nbformat": 4,
 "nbformat_minor": 0
}
