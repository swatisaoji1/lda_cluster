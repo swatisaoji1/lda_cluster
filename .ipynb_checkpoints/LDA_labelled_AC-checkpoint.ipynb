{
 "cells": [
  {
   "cell_type": "markdown",
   "metadata": {},
   "source": [
    "## LDA for tweet topic modelling\n",
    "___\n",
    "\n",
    "Description :  \n",
    "  \n",
    "For this experiment, I selected random 65 users from AmericanCrime TV show and to get the sample of labelled tweets , I chose the tweets that have following hashtags :  \n",
    "\n",
    "`hashtags = ['#politics', '#art', '#games', '#fashion', '#music', '#news']`  \n",
    "\n",
    "This allowed be to use thse hashtags as true labels.  \n"
   ]
  },
  {
   "cell_type": "code",
   "execution_count": 1,
   "metadata": {
    "collapsed": false
   },
   "outputs": [
    {
     "data": {
      "text/html": [
       "<script>jQuery(function() {if (jQuery(\"body.notebook_app\").length == 0) { jQuery(\".input_area\").toggle(); jQuery(\".prompt\").toggle();}});</script>"
      ]
     },
     "metadata": {},
     "output_type": "display_data"
    }
   ],
   "source": [
    "%matplotlib inline\n",
    "import IPython.core.display as di\n",
    "# This line will hide code by default when the notebook is exported as HTML\n",
    "di.display_html('<script>jQuery(function() {if (jQuery(\"body.notebook_app\").length == 0) { jQuery(\".input_area\").toggle(); jQuery(\".prompt\").toggle();}});</script>', raw=True)\n"
   ]
  },
  {
   "cell_type": "code",
   "execution_count": 15,
   "metadata": {
    "collapsed": false
   },
   "outputs": [],
   "source": [
    "# imports\n",
    "import pandas as pd\n",
    "import numpy as np\n",
    "import nltk\n",
    "from nltk.stem.snowball import SnowballStemmer\n",
    "from nltk.stem import WordNetLemmatizer\n",
    "from nltk import pos_tag\n",
    "import re\n",
    "from sklearn.feature_extraction.text import TfidfVectorizer\n",
    "from functools import lru_cache\n",
    "from sklearn.cluster import KMeans, Birch, SpectralClustering, DBSCAN\n",
    "from sklearn import mixture\n",
    "import matplotlib.pyplot as plt\n",
    "from sklearn.metrics import silhouette_samples, silhouette_score\n",
    "from sklearn import metrics\n",
    "from sklearn.metrics import pairwise_distances\n",
    "from sklearn.metrics.pairwise import cosine_similarity\n",
    "import warnings\n",
    "\n",
    "import gensim\n",
    "from gensim import corpora, models\n",
    "import pyLDAvis.gensim\n",
    "\n",
    "pyLDAvis.enable_notebook()\n",
    "warnings.filterwarnings('ignore')"
   ]
  },
  {
   "cell_type": "code",
   "execution_count": 16,
   "metadata": {
    "collapsed": true
   },
   "outputs": [],
   "source": [
    "# initializing lemmatizer\n",
    "stemmer = SnowballStemmer(\"english\")\n",
    "wordnet_lemmatizer = WordNetLemmatizer()\n",
    "lemmatize = lru_cache(maxsize=50000)(wordnet_lemmatizer.lemmatize)\n",
    " \n",
    "# ===========helper methods ========================================\n",
    "def remove_non_ascii(s):\n",
    "    return \"\".join(i for i in s if ord(i) < 128)\n",
    "\n",
    "def stop_words_list():\n",
    "    \"\"\"\n",
    "        A stop list specific to the observed timelines composed of noisy words\n",
    "        This list would change for different set of timelines\n",
    "    \"\"\"\n",
    "    stop_words = ['bc', 'http', 'https', 'co', 'rt', 'one', 'us', 'new',\n",
    "              'lol', 'may', 'get', 'want', 'like', 'love', 'no', 'thank', 'would', 'thanks',\n",
    "              'via', 'today', 'gt', 'great', 'watch', 'watched', 'season',\n",
    "              '00p', 'good', 'much', 'low', 'roger']\n",
    "\n",
    "    stoplist  = set( nltk.corpus.stopwords.words(\"english\") + stop_words)\n",
    "    return stoplist\n",
    "\n",
    "def remove_urls(text):\n",
    "    text = re.sub(r\"(?:\\@|http?\\://)\\S+\", \"\", text)\n",
    "    text = re.sub(r\"(?:\\@|https?\\://)\\S+\", \"\", text)\n",
    "    return text\n",
    "\n",
    "def get_wordnet_pos(treebank_tag):\n",
    "    if treebank_tag.startswith('J'):\n",
    "        return 'a'\n",
    "    elif treebank_tag.startswith('V'):\n",
    "        return 'v'\n",
    "    elif treebank_tag.startswith('N'):\n",
    "        return 'n'\n",
    "    elif treebank_tag.startswith('R'):\n",
    "        return 'r'\n",
    "    else:\n",
    "        return None\n",
    "\n",
    "def tokenize(text):\n",
    "    \"\"\"\n",
    "    helper function to readTweets() removes url and tokenizes text\n",
    "    :param text\n",
    "    \"\"\"\n",
    "    text = remove_urls(text)\n",
    "    text = remove_non_ascii(text)\n",
    "    text = re.sub(r\"\"\"[\\'\\\"]\"\"\",'', text)\n",
    "    regexps = (\n",
    "        r\"\"\"(?:[\\w_]+)\"\"\",                          # regular word\n",
    "        r\"\"\"(?:[a-z][a-z'\\-_]+[a-z])\"\"\"             # word with an apostrophe or a dash\n",
    "    )\n",
    "    tokens_regexp = re.compile(r\"\"\"(%s)\"\"\" % \"|\".join(regexps),\n",
    "                               re.VERBOSE | re.I | re.UNICODE)\n",
    "    return tokens_regexp.findall(text)\n",
    "\n",
    "def replace_acronym(tokens, slang_dict):\n",
    "    new_tokens = []\n",
    "    for token in tokens:\n",
    "        if token in slang_dict:\n",
    "            new_tokens.extend(slang_dict[token].split())\n",
    "        else:\n",
    "            new_tokens.append(token)\n",
    "    return new_tokens\n",
    "\n",
    "def tokenize_and_lemmatize(text, slang_dict, stop_words):\n",
    "    # get the tokens, lowercase - replace acronym\n",
    "    lowered = [item.lower() for item in tokenize(text)]\n",
    "    tokens = replace_acronym(lowered, slang_dict)\n",
    "\n",
    "    \n",
    "    tokens_pos = pos_tag(tokens)\n",
    "    words = []\n",
    "    for token in tokens_pos:\n",
    "        pos = get_wordnet_pos(token[1])\n",
    "        # if verb, noun, adj or adverb include them after lemmatization\n",
    "        if pos is not None and token[0] not in stop_words:\n",
    "            try:\n",
    "                tok = lemmatize(token[0], pos)\n",
    "                words.append(tok)\n",
    "            except UnicodeDecodeError:\n",
    "                pass\n",
    "    # print words\n",
    "    return words\n",
    "\n",
    "def read_in_dict(filename):\n",
    "    dict = {}\n",
    "    with open(filename) as f:\n",
    "        for line in f.readlines():\n",
    "            parts = line.partition(\":\")\n",
    "            dict[parts[0].strip()] = parts[2].strip()\n",
    "    return dict"
   ]
  },
  {
   "cell_type": "markdown",
   "metadata": {},
   "source": [
    "##### The input :\n",
    "___\n",
    "\n",
    "The file used as input in this experiment is created by selecting specific hashtags from the tweets of the users who tweet about AmericanCrime"
   ]
  },
  {
   "cell_type": "code",
   "execution_count": 4,
   "metadata": {
    "collapsed": false
   },
   "outputs": [
    {
     "name": "stdout",
     "output_type": "stream",
     "text": [
      "data/tweet_AmericanCrime_selected_labelled.csv\n"
     ]
    }
   ],
   "source": [
    "filename = \"data/tweet_AmericanCrime_selected_labelled.csv\"\n",
    "LABEL = \"tweet_AmericanCrime_selected_labelled\"\n",
    "print(filename)"
   ]
  },
  {
   "cell_type": "code",
   "execution_count": 5,
   "metadata": {
    "collapsed": false
   },
   "outputs": [
    {
     "name": "stdout",
     "output_type": "stream",
     "text": [
      "Snippet of the dataframe : \n",
      "   Unnamed: 0       user                                              tweet  \\\n",
      "0           0   29231236  We like having options! #clue #cluegame #vinta...   \n",
      "1           1   29231236  RT @AdviceToWriters: Mystery is the basic elem...   \n",
      "2           2  189333010  RT @eggo: At least there's one thing we can ag...   \n",
      "3           3  189333010  RT @TheRealTahiry: How can I not love her @cia...   \n",
      "4           4  189333010  RT @USPSbiz: We joined forces with @Poshmarkap...   \n",
      "\n",
      "       label  \n",
      "0     #games  \n",
      "1       #art  \n",
      "2  #politics  \n",
      "3   #fashion  \n",
      "4   #fashion  \n"
     ]
    }
   ],
   "source": [
    "df = pd.read_csv(filename)\n",
    "print (\"Snippet of the dataframe : \")\n",
    "print (df.head())"
   ]
  },
  {
   "cell_type": "markdown",
   "metadata": {
    "collapsed": true
   },
   "source": [
    "## LDA \n",
    "___\n",
    "\n",
    "For LDA all the tweetes from a single user are considered 1 document ."
   ]
  },
  {
   "cell_type": "markdown",
   "metadata": {},
   "source": [
    "##### Steps:\n",
    "___\n",
    "\n",
    "Group the data by users. All the tweets from one user are combined into a single document."
   ]
  },
  {
   "cell_type": "code",
   "execution_count": 6,
   "metadata": {
    "collapsed": false
   },
   "outputs": [
    {
     "name": "stdout",
     "output_type": "stream",
     "text": [
      "           Unnamed: 0  tweet  label\n",
      "user                               \n",
      "10023372            6      6      6\n",
      "16582002            2      2      2\n",
      "16625554            2      2      2\n",
      "19087781            4      4      4\n",
      "20942633           12     12     12\n",
      "24102642            4      4      4\n",
      "29231236            4      4      4\n",
      "30480494            4      4      4\n",
      "36944311            4      4      4\n",
      "41302387            1      1      1\n",
      "48636686            4      4      4\n",
      "53288330            9      9      9\n",
      "58953182            3      3      3\n",
      "66444148           14     14     14\n",
      "68472627            3      3      3\n",
      "79994320            2      2      2\n",
      "83472948            1      1      1\n",
      "89905494            2      2      2\n",
      "138075940           1      1      1\n",
      "178534670           3      3      3\n"
     ]
    }
   ],
   "source": [
    "grouped_by_users = df.groupby('user')\n",
    "print(grouped_by_users.count()[:20])"
   ]
  },
  {
   "cell_type": "markdown",
   "metadata": {},
   "source": [
    "##### The new dataframe has:\n",
    "___\n",
    "\n",
    "* \"tags\" : all the hashtag labels combined\n",
    "* \"tweet\" : all the tweets from a user combined\n",
    "* \"user_id\" : a unique user"
   ]
  },
  {
   "cell_type": "code",
   "execution_count": 17,
   "metadata": {
    "collapsed": false
   },
   "outputs": [
    {
     "data": {
      "text/html": [
       "<div>\n",
       "<table border=\"1\" class=\"dataframe\">\n",
       "  <thead>\n",
       "    <tr style=\"text-align: right;\">\n",
       "      <th></th>\n",
       "      <th>tags</th>\n",
       "      <th>tweet</th>\n",
       "      <th>user</th>\n",
       "    </tr>\n",
       "  </thead>\n",
       "  <tbody>\n",
       "    <tr>\n",
       "      <th>0</th>\n",
       "      <td>#fashion #politics #games #music #art #fashion</td>\n",
       "      <td>My other #coach treasure from yesterday. #fash...</td>\n",
       "      <td>10023372</td>\n",
       "    </tr>\n",
       "    <tr>\n",
       "      <th>1</th>\n",
       "      <td>#music #news</td>\n",
       "      <td>RT @CherylGustafson: The 1st time I've tuned i...</td>\n",
       "      <td>16582002</td>\n",
       "    </tr>\n",
       "    <tr>\n",
       "      <th>2</th>\n",
       "      <td>#news #music</td>\n",
       "      <td>YES I am excited for Monday. #cleanslate #news...</td>\n",
       "      <td>16625554</td>\n",
       "    </tr>\n",
       "    <tr>\n",
       "      <th>3</th>\n",
       "      <td>#news #news #music #fashion</td>\n",
       "      <td>loved the talk today @rolandsmartin @DawudWali...</td>\n",
       "      <td>19087781</td>\n",
       "    </tr>\n",
       "    <tr>\n",
       "      <th>4</th>\n",
       "      <td>#fashion #art #fashion #fashion #news #politic...</td>\n",
       "      <td>RT @BlackBabyShow: African Tailors and Seamstr...</td>\n",
       "      <td>20942633</td>\n",
       "    </tr>\n",
       "  </tbody>\n",
       "</table>\n",
       "</div>"
      ],
      "text/plain": [
       "                                                tags  \\\n",
       "0     #fashion #politics #games #music #art #fashion   \n",
       "1                                       #music #news   \n",
       "2                                       #news #music   \n",
       "3                        #news #news #music #fashion   \n",
       "4  #fashion #art #fashion #fashion #news #politic...   \n",
       "\n",
       "                                               tweet      user  \n",
       "0  My other #coach treasure from yesterday. #fash...  10023372  \n",
       "1  RT @CherylGustafson: The 1st time I've tuned i...  16582002  \n",
       "2  YES I am excited for Monday. #cleanslate #news...  16625554  \n",
       "3  loved the talk today @rolandsmartin @DawudWali...  19087781  \n",
       "4  RT @BlackBabyShow: African Tailors and Seamstr...  20942633  "
      ]
     },
     "execution_count": 17,
     "metadata": {},
     "output_type": "execute_result"
    }
   ],
   "source": [
    "lda_df = []\n",
    "\n",
    "for head, group_data in grouped_by_users:\n",
    "    row = {}\n",
    "    doc = \" \".join(group_data.iloc[:, 2])\n",
    "    tags = \" \".join(group_data.iloc[:, 3])\n",
    "    row['user'] = head\n",
    "    row['tweet'] = doc\n",
    "    row['tags'] = tags\n",
    "    # print(row)\n",
    "    lda_df.append(row)\n",
    "\n",
    "lda_df = pd.DataFrame(lda_df)\n",
    "lda_df[:5]"
   ]
  },
  {
   "cell_type": "code",
   "execution_count": null,
   "metadata": {
    "collapsed": true
   },
   "outputs": [],
   "source": []
  },
  {
   "cell_type": "code",
   "execution_count": 8,
   "metadata": {
    "collapsed": false
   },
   "outputs": [],
   "source": [
    "list_of_doc = lda_df.iloc[:, 1]\n",
    "\n",
    "def get_preprocessed_docs(list_of_doc):\n",
    "    stop_words = stop_words_list()\n",
    "    slang_dict = read_in_dict(\"data/out_slang_map.csv\")\n",
    "    for each_doc in list_of_doc:\n",
    "        yield tokenize_and_lemmatize(each_doc, slang_dict, stop_words)\n",
    "\n",
    "\n",
    "documents = get_preprocessed_docs(list_of_doc)"
   ]
  },
  {
   "cell_type": "code",
   "execution_count": 9,
   "metadata": {
    "collapsed": false
   },
   "outputs": [
    {
     "name": "stdout",
     "output_type": "stream",
     "text": [
      "[['coach', 'treasure', 'yesterday', 'fashionshowmall', 'outlet', 'instafamous', 'end', 'twitter', 'follow', 'politics', 'debate', 'twitter', 'twitter', 'hailtwitter', 'there', 'people', 'terminal', 'gamestop', 'next', 'door', 'something', 'come', 'tonight', 'mcdonalds', 'yelp', 'saw', 'aladdin', 'musical', 'spectacular', 'long', 'time', 'spot', 'watch', 'jeopardy', 'art', 'rule', 'third', 'wait', 'second', 'answer', 'answer', 'even', 'finish', 'clue', 'feelssmart', 'summertime', 'shoe', 'louboutins', 'fashionblog', 'fashionista', 'louisvuitton'], ['time', 'ive', 'tune', 'year', 'music', 'genius', 'deadpools', 'spoof', 'bachelor', 'late', 'movie', 'trailer', 'adhdshow', 'newsandupdates'], ['yes', 'excite', 'monday', 'cleanslate', 'newstart', 'yesterday', 'musicmidtown2015'], ['love', 'talk', 'tvone', 'newsonenow', 'question', 'tamron', 'newsnation', 'atruejournalist', 'lauryn', 'hill', 'need', 'release', 'miseducation', 'lauryn', 'hill', 'soon', 'possible', 'musictodayislost', 'favorite', 'clothing', 'item', 'scarf', 'caftan', 'abayas', 'amp', 'tunic', 'fashion'], ['african', 'tailor', 'seamstress', 'information', 'feel', 'free', 'tag', 'comment', 'attire', 'fashion', 'whatever', 'art', 'caribbean', 'illustration', 'fashion', 'feel', 'free', 'tag', 'fashiondesigners', 'post', 'soooo', 'cute', 'tag', 'african', 'kid', 'fashion', 'designer', 'uk', 'africanfashion', 'fashionistas', 'san', 'francisco', 'end', 'tow', 'fee', 'stolen', 'car', 'victim', 'cbs', 'local', 'news', 'rep', 'gilda', 'cobb', 'hunter', 'terminal', 'blackhistorymonth', 'conversation', 'african', 'amer', 'woman', 'politics', 'african', 'tailor', 'seamstress', 'information', 'feel', 'free', 'tag', 'comment', 'attire', 'fashion', 'whatever', 'art', 'caribbean', 'illustration', 'fashion', 'feel', 'free', 'tag', 'fashiondesigners', 'post', 'soooo', 'cute', 'tag', 'african', 'kid', 'fashion', 'designer', 'uk', 'africanfashion', 'fashionistas', 'san', 'francisco', 'end', 'tow', 'fee', 'stolen', 'car', 'victim', 'cbs', 'local', 'newsrt', 'black', 'business', 'amp', 'tech', 'professional', 'acronym', 'rich', 'environment', 'change', 'game', 'texasblackexpo', 'rep', 'gilda', 'cobb', 'hunter', 'terminal', 'blackhistorymonth', 'conversation', 'african', 'amer', 'woman', 'politics']]\n"
     ]
    }
   ],
   "source": [
    "list_doc = list(documents)\n",
    "print(list_doc[:5])"
   ]
  },
  {
   "cell_type": "code",
   "execution_count": 19,
   "metadata": {
    "collapsed": false
   },
   "outputs": [
    {
     "name": "stdout",
     "output_type": "stream",
     "text": [
      "Dictionary(88 unique tokens: ['instant', 'make', 'kid', 'work', 'trip']...)\n",
      "{'instant': 0, 'make': 1, 'kid': 2, 'work': 3, 'trip': 4, 'song': 5, 'yesterday': 6, 'nyc': 7, 'loud': 8, 'painting': 9, 'art': 10, 'return': 11, 'youtube': 12, 'come': 13, 'create': 14, 'acronym': 15, 'morning': 16, 'write': 17, 'time': 18, 'late': 19, 'terminal': 20, 'soon': 21, 'etsy': 22, 'tv': 23, 'music': 24, 'follow': 25, 'laugh': 26, 'look': 27, 'second': 28, 'amp': 40, 'year': 30, 'ad': 31, 'still': 33, 'take': 34, 'really': 35, 'back': 36, 'let': 37, 'finish': 38, 'video': 39, 'read': 29, 'fashionista': 41, 'birthday': 60, 'black': 43, 'always': 44, 'ht': 74, 'wait': 46, 'win': 47, 'get': 48, 'right': 49, 'environment': 50, 'ready': 64, 'point': 51, 'london': 52, 'need': 53, 'real': 54, 'game': 55, 'rich': 56, 'politics': 57, 'blue': 58, 'significant': 59, 'day': 32, 'fashion': 61, 'favorite': 62, 'u': 42, 'style': 63, 'knowledge': 45, 'hair': 65, 'piece': 66, 'business': 67, 'twitter': 68, 'woman': 69, 'live': 70, 'show': 85, 'news': 72, 'try': 73, 'listen': 75, 'rock': 76, 'people': 77, 'jazz': 78, 'film': 79, 'post': 80, 'go': 81, 'thing': 82, 'artist': 83, 'mean': 84, 'message': 71, 'long': 86, 'see': 87}\n",
      "88\n"
     ]
    }
   ],
   "source": [
    "# create a Gensim dictionary from documents\n",
    "dictionary = corpora.Dictionary(list_doc)\n",
    "\n",
    "# filter extremes no_below=5, no_above=0.5, keep_n=100000\n",
    "dictionary.filter_extremes(no_below=3, no_above=0.9)\n",
    "    \n",
    "print(dictionary)\n",
    "print(dictionary.token2id)\n",
    "\n",
    "token_count = len(dictionary)"
   ]
  },
  {
   "cell_type": "code",
   "execution_count": 11,
   "metadata": {
    "collapsed": false
   },
   "outputs": [
    {
     "data": {
      "text/plain": [
       "[[(10, 2), (49, 2), (61, 2), (63, 2), (73, 2)]]"
      ]
     },
     "execution_count": 11,
     "metadata": {},
     "output_type": "execute_result"
    }
   ],
   "source": [
    "# convert the dictionary to a corpus\n",
    "corpus = [dictionary.doc2bow(doc) for doc in list_doc]\n",
    "corpus[8:9]"
   ]
  },
  {
   "cell_type": "code",
   "execution_count": 20,
   "metadata": {
    "collapsed": false
   },
   "outputs": [
    {
     "name": "stdout",
     "output_type": "stream",
     "text": [
      "65\n",
      "4\n"
     ]
    },
    {
     "data": {
      "text/plain": [
       "<matplotlib.legend.Legend at 0x7f4391af1320>"
      ]
     },
     "execution_count": 20,
     "metadata": {},
     "output_type": "execute_result"
    },
    {
     "data": {
      "image/png": "[encoded data removed]",
      "text/plain": [
       "<matplotlib.figure.Figure at 0x7f4391f68278>"
      ]
     },
     "metadata": {},
     "output_type": "display_data"
    }
   ],
   "source": [
    "n_estimators = np.arange(2,50, step=1)\n",
    "tfarray = gensim.matutils.corpus2dense(corpus,token_count)\n",
    "print(len(corpus))\n",
    "print(len(corpus[1]))\n",
    "clfs = [mixture.GMM(n, n_iter=500).fit(tfarray) for n in n_estimators]\n",
    "bics = [clf.bic(tfarray) for clf in clfs]\n",
    "aics = [clf.aic(tfarray) for clf in clfs]\n",
    "\n",
    "plt.plot(n_estimators, bics, label= 'BIC')\n",
    "plt.plot(n_estimators, aics, label= 'AIC')\n",
    "plt.legend()"
   ]
  },
  {
   "cell_type": "code",
   "execution_count": 21,
   "metadata": {
    "collapsed": false
   },
   "outputs": [
    {
     "name": "stdout",
     "output_type": "stream",
     "text": [
      "n             bic              aic \n",
      "2             4388              3741\n",
      "3             4452              3481\n",
      "4             3155              1860\n",
      "5             1935              314\n",
      "6             -2375              -4320\n",
      "7             -5058              -7328\n",
      "8             -4630              -7223\n",
      "9             -6852              -9771\n",
      "10             -5242              -8485\n",
      "11             -8795              -12363\n"
     ]
    },
    {
     "data": {
      "image/png": "[encoded data removed]",
      "text/plain": [
       "<matplotlib.figure.Figure at 0x7f4391f7e588>"
      ]
     },
     "metadata": {},
     "output_type": "display_data"
    }
   ],
   "source": [
    "n_estimators = np.arange(2,12, step=1)\n",
    "\n",
    "clfs = [mixture.GMM(n, n_iter=500).fit(tfarray) for n in n_estimators]\n",
    "bics = [clf.bic(tfarray) for clf in clfs]\n",
    "aics = [clf.aic(tfarray) for clf in clfs]\n",
    "\n",
    "plt.plot(n_estimators, bics, label= 'BIC')\n",
    "plt.plot(n_estimators, aics, label= 'AIC')\n",
    "plt.legend()\n",
    "\n",
    "i = 1\n",
    "print(\"n             bic              aic \")\n",
    "for x, y in zip(bics, aics):\n",
    "    i += 1\n",
    "    print(\"%d             %d              %d\" % (i, x, y) )"
   ]
  },
  {
   "cell_type": "code",
   "execution_count": 29,
   "metadata": {
    "collapsed": false
   },
   "outputs": [
    {
     "data": {
      "text/plain": [
       "[(0,\n",
       "  '0.129*news + 0.080*game + 0.061*kid + 0.052*art + 0.050*rich + 0.050*environment + 0.050*acronym + 0.041*write + 0.041*instant + 0.041*message'),\n",
       " (1,\n",
       "  '0.278*music + 0.047*politics + 0.037*significant + 0.028*really + 0.028*always + 0.028*back + 0.024*make + 0.023*late + 0.023*return + 0.023*blue'),\n",
       " (2,\n",
       "  '0.132*film + 0.081*year + 0.081*art + 0.081*fashion + 0.076*jazz + 0.055*terminal + 0.055*amp + 0.055*rock + 0.055*look + 0.055*laugh'),\n",
       " (3,\n",
       "  '0.132*follow + 0.117*music + 0.084*news + 0.061*song + 0.049*listen + 0.049*twitter + 0.037*painting + 0.029*art + 0.025*win + 0.025*time'),\n",
       " (4,\n",
       "  '0.197*video + 0.115*music + 0.107*art + 0.090*ready + 0.068*hair + 0.068*significant + 0.068*twitter + 0.068*news + 0.024*show + 0.002*live'),\n",
       " (5,\n",
       "  '0.203*style + 0.150*fashion + 0.125*art + 0.057*soon + 0.046*point + 0.035*day + 0.035*ht + 0.035*right + 0.035*try + 0.024*people'),\n",
       " (6,\n",
       "  '0.204*fashion + 0.060*terminal + 0.059*music + 0.032*news + 0.031*long + 0.031*art + 0.027*knowledge + 0.023*day + 0.023*amp + 0.019*business'),\n",
       " (7,\n",
       "  '0.197*loud + 0.166*mean + 0.101*always + 0.101*laugh + 0.071*get + 0.069*go + 0.004*instant + 0.004*message + 0.004*come + 0.004*people'),\n",
       " (8,\n",
       "  '0.303*art + 0.040*terminal + 0.040*work + 0.040*finish + 0.038*time + 0.032*artist + 0.030*yesterday + 0.030*twitter + 0.030*wait + 0.024*see')]"
      ]
     },
     "execution_count": 29,
     "metadata": {},
     "output_type": "execute_result"
    }
   ],
   "source": [
    "lda_params={'num_topics': 9, 'passes': 100, 'alpha': 0.1}\n",
    "\n",
    "# train the lda model\n",
    "lda = models.LdaModel(corpus, id2word=dictionary,\n",
    "                    num_topics=lda_params['num_topics'],\n",
    "                    passes=lda_params['passes'],\n",
    "                    alpha = lda_params['alpha'])\n",
    "\n",
    "lda.show_topics()\n",
    "\n"
   ]
  },
  {
   "cell_type": "code",
   "execution_count": 30,
   "metadata": {
    "collapsed": false
   },
   "outputs": [],
   "source": [
    "file_html = \"results/\" + \"model_name\" + \".html\"\n",
    "followers_data =  pyLDAvis.gensim.prepare(lda, corpus, dictionary)\n",
    "pyLDAvis.display(followers_data)\n",
    "pyLDAvis.save_html(followers_data, file_html)"
   ]
  },
  {
   "cell_type": "code",
   "execution_count": 31,
   "metadata": {
    "collapsed": false
   },
   "outputs": [
    {
     "data": {
      "text/html": [
       "\n",
       "        <iframe\n",
       "            width=\"900\"\n",
       "            height=\"800\"\n",
       "            src=\"results/model_name.html\"\n",
       "            frameborder=\"0\"\n",
       "            allowfullscreen\n",
       "        ></iframe>\n",
       "        "
      ],
      "text/plain": [
       "<IPython.lib.display.IFrame at 0x7f4391ae7f28>"
      ]
     },
     "execution_count": 31,
     "metadata": {},
     "output_type": "execute_result"
    }
   ],
   "source": [
    "from IPython.display import IFrame\n",
    "IFrame(file_html, width=900, height=800)"
   ]
  },
  {
   "cell_type": "code",
   "execution_count": 32,
   "metadata": {
    "collapsed": false
   },
   "outputs": [
    {
     "data": {
      "text/html": [
       "<div>\n",
       "<table border=\"1\" class=\"dataframe\">\n",
       "  <thead>\n",
       "    <tr style=\"text-align: right;\">\n",
       "      <th></th>\n",
       "      <th>tags</th>\n",
       "      <th>tweet</th>\n",
       "      <th>user</th>\n",
       "    </tr>\n",
       "  </thead>\n",
       "  <tbody>\n",
       "    <tr>\n",
       "      <th>0</th>\n",
       "      <td>#fashion #politics #games #music #art #fashion</td>\n",
       "      <td>My other #coach treasure from yesterday. #fash...</td>\n",
       "      <td>10023372</td>\n",
       "    </tr>\n",
       "    <tr>\n",
       "      <th>1</th>\n",
       "      <td>#music #news</td>\n",
       "      <td>RT @CherylGustafson: The 1st time I've tuned i...</td>\n",
       "      <td>16582002</td>\n",
       "    </tr>\n",
       "    <tr>\n",
       "      <th>2</th>\n",
       "      <td>#news #music</td>\n",
       "      <td>YES I am excited for Monday. #cleanslate #news...</td>\n",
       "      <td>16625554</td>\n",
       "    </tr>\n",
       "    <tr>\n",
       "      <th>3</th>\n",
       "      <td>#news #news #music #fashion</td>\n",
       "      <td>loved the talk today @rolandsmartin @DawudWali...</td>\n",
       "      <td>19087781</td>\n",
       "    </tr>\n",
       "    <tr>\n",
       "      <th>4</th>\n",
       "      <td>#fashion #art #fashion #fashion #news #politic...</td>\n",
       "      <td>RT @BlackBabyShow: African Tailors and Seamstr...</td>\n",
       "      <td>20942633</td>\n",
       "    </tr>\n",
       "  </tbody>\n",
       "</table>\n",
       "</div>"
      ],
      "text/plain": [
       "                                                tags  \\\n",
       "0     #fashion #politics #games #music #art #fashion   \n",
       "1                                       #music #news   \n",
       "2                                       #news #music   \n",
       "3                        #news #news #music #fashion   \n",
       "4  #fashion #art #fashion #fashion #news #politic...   \n",
       "\n",
       "                                               tweet      user  \n",
       "0  My other #coach treasure from yesterday. #fash...  10023372  \n",
       "1  RT @CherylGustafson: The 1st time I've tuned i...  16582002  \n",
       "2  YES I am excited for Monday. #cleanslate #news...  16625554  \n",
       "3  loved the talk today @rolandsmartin @DawudWali...  19087781  \n",
       "4  RT @BlackBabyShow: African Tailors and Seamstr...  20942633  "
      ]
     },
     "execution_count": 32,
     "metadata": {},
     "output_type": "execute_result"
    }
   ],
   "source": [
    "lda_df[:5]"
   ]
  },
  {
   "cell_type": "code",
   "execution_count": null,
   "metadata": {
    "collapsed": true
   },
   "outputs": [],
   "source": []
  }
 ],
 "metadata": {
  "kernelspec": {
   "display_name": "Python 3",
   "language": "python",
   "name": "python3"
  },
  "language_info": {
   "codemirror_mode": {
    "name": "ipython",
    "version": 3
   },
   "file_extension": ".py",
   "mimetype": "text/x-python",
   "name": "python",
   "nbconvert_exporter": "python",
   "pygments_lexer": "ipython3",
   "version": "3.5.1"
  }
 },
 "nbformat": 4,
 "nbformat_minor": 0
}
