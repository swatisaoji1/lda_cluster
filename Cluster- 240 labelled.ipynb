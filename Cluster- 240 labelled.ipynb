{
 "cells": [
  {
   "cell_type": "code",
   "execution_count": 1,
   "metadata": {
    "collapsed": false,
    "slideshow": {
     "slide_type": "slide"
    }
   },
   "outputs": [
    {
     "data": {
      "text/html": [
       "<script>jQuery(function() {if (jQuery(\"body.notebook_app\").length == 0) { jQuery(\".input_area\").toggle(); jQuery(\".prompt\").toggle();}});</script>"
      ]
     },
     "metadata": {},
     "output_type": "display_data"
    }
   ],
   "source": [
    "%matplotlib inline\n",
    "import pandas as pd\n",
    "import numpy as np\n",
    "import nltk\n",
    "from nltk.stem.snowball import SnowballStemmer\n",
    "from nltk.stem import WordNetLemmatizer\n",
    "from nltk import pos_tag\n",
    "import re\n",
    "from sklearn.feature_extraction.text import TfidfVectorizer\n",
    "from functools import lru_cache\n",
    "from sklearn.cluster import KMeans, Birch, SpectralClustering, DBSCAN\n",
    "from sklearn import mixture\n",
    "import matplotlib.pyplot as plt\n",
    "from sklearn.metrics import silhouette_samples, silhouette_score\n",
    "from sklearn import metrics\n",
    "import IPython.core.display as di\n",
    "# This line will hide code by default when the notebook is exported as HTML\n",
    "di.display_html('<script>jQuery(function() {if (jQuery(\"body.notebook_app\").length == 0) { jQuery(\".input_area\").toggle(); jQuery(\".prompt\").toggle();}});</script>', raw=True)\n",
    "\n",
    "\n",
    "# initializing lemmatizer\n",
    "stemmer = SnowballStemmer(\"english\")\n",
    "wordnet_lemmatizer = WordNetLemmatizer()\n",
    "lemmatize = lru_cache(maxsize=50000)(wordnet_lemmatizer.lemmatize)\n",
    " \n",
    "# ===========helper methods ========================================\n",
    "def remove_non_ascii(s):\n",
    "    return \"\".join(i for i in s if ord(i) < 128)\n",
    "\n",
    "def stop_words_list():\n",
    "    \"\"\"\n",
    "        A stop list specific to the observed timelines composed of noisy words\n",
    "        This list would change for different set of timelines\n",
    "    \"\"\"\n",
    "    stop_words = ['bc', 'http', 'https', 'co', 'rt', 'one', 'us', 'new',\n",
    "              'lol', 'may', 'get', 'want', 'like', 'love', 'no', 'thank', 'would', 'thanks',\n",
    "              'via', 'today', 'gt', 'great', 'watch', 'watched', 'season',\n",
    "              '00p']\n",
    "\n",
    "    stoplist  = set( nltk.corpus.stopwords.words(\"english\") + stop_words)\n",
    "    return stoplist\n",
    "\n",
    "def remove_urls(text):\n",
    "    text = re.sub(r\"(?:\\@|http?\\://)\\S+\", \"\", text)\n",
    "    text = re.sub(r\"(?:\\@|https?\\://)\\S+\", \"\", text)\n",
    "    return text\n",
    "\n",
    "def get_wordnet_pos(treebank_tag):\n",
    "    if treebank_tag.startswith('J'):\n",
    "        return 'a'\n",
    "    elif treebank_tag.startswith('V'):\n",
    "        return 'v'\n",
    "    elif treebank_tag.startswith('N'):\n",
    "        return 'n'\n",
    "    elif treebank_tag.startswith('R'):\n",
    "        return 'r'\n",
    "    else:\n",
    "        return None\n",
    "\n",
    "def tokenize(text):\n",
    "    \"\"\"\n",
    "    helper function to readTweets() removes url and tokenizes text\n",
    "    :param text\n",
    "    \"\"\"\n",
    "    text = remove_urls(text)\n",
    "    text = remove_non_ascii(text)\n",
    "    text = re.sub(r\"\"\"[\\'\\\"]\"\"\",'', text)\n",
    "    regexps = (\n",
    "        r\"\"\"(?:[\\w_]+)\"\"\",                          # regular word\n",
    "        r\"\"\"(?:[a-z][a-z'\\-_]+[a-z])\"\"\"             # word with an apostrophe or a dash\n",
    "    )\n",
    "    tokens_regexp = re.compile(r\"\"\"(%s)\"\"\" % \"|\".join(regexps),\n",
    "                               re.VERBOSE | re.I | re.UNICODE)\n",
    "    return tokens_regexp.findall(text)\n",
    "\n",
    "def replace_acronym(tokens, slang_dict):\n",
    "    new_tokens = []\n",
    "    for token in tokens:\n",
    "        if token in slang_dict:\n",
    "            new_tokens.extend(slang_dict[token].split())\n",
    "        else:\n",
    "            new_tokens.append(token)\n",
    "    return new_tokens\n",
    "\n",
    "def tokenize_and_lemmatize(text, slang_dict, stop_words):\n",
    "    # get the tokens, lowercase - replace acronym\n",
    "    lowered = [item.lower() for item in tokenize(text)]\n",
    "    tokens = replace_acronym(lowered, slang_dict)\n",
    "\n",
    "    \n",
    "    tokens_pos = pos_tag(tokens)\n",
    "    words = []\n",
    "    for token in tokens_pos:\n",
    "        pos = get_wordnet_pos(token[1])\n",
    "        # if verb, noun, adj or adverb include them after lemmatization\n",
    "        if pos is not None and token[0] not in stop_words:\n",
    "            try:\n",
    "                tok = lemmatize(token[0], pos)\n",
    "                words.append(tok)\n",
    "            except UnicodeDecodeError:\n",
    "                pass\n",
    "    # print words\n",
    "    return words\n",
    "\n",
    "def read_in_dict(filename):\n",
    "    dict = {}\n",
    "    with open(filename) as f:\n",
    "        for line in f.readlines():\n",
    "            parts = line.partition(\":\")\n",
    "            dict[parts[0].strip()] = parts[2].strip()\n",
    "    return dict"
   ]
  },
  {
   "cell_type": "code",
   "execution_count": 2,
   "metadata": {
    "collapsed": true,
    "slideshow": {
     "slide_type": "slide"
    }
   },
   "outputs": [],
   "source": [
    "test_df = pd.read_csv(\"data/cluster_test1.csv\",  low_memory=False)"
   ]
  },
  {
   "cell_type": "markdown",
   "metadata": {},
   "source": [
    "Reading the data set"
   ]
  },
  {
   "cell_type": "code",
   "execution_count": 3,
   "metadata": {
    "collapsed": false
   },
   "outputs": [
    {
     "name": "stdout",
     "output_type": "stream",
     "text": [
      "   Unnamed: 0      label                                              tweet  \\\n",
      "0           0  #politics  Not Just Trump: Jon Stewart Has Some Harsh Cri...   \n",
      "1           1  #politics  Republicans are selling their souls to Donald ...   \n",
      "2           2  #politics  RT @cyberguy: How the #Smartphone is Going to ...   \n",
      "3           3  #politics  This Unusual Indicator Confirms That The Tech ...   \n",
      "4           4  #politics  CBS News Caught Blatantly Distorting Cannabis ...   \n",
      "\n",
      "                 user  \n",
      "0  730453633838551041  \n",
      "1  730453560660348929  \n",
      "2  730453437654155264  \n",
      "3  730453408444977152  \n",
      "4  730453407316717568  \n"
     ]
    }
   ],
   "source": [
    "print(test_df[:5])"
   ]
  },
  {
   "cell_type": "code",
   "execution_count": 4,
   "metadata": {
    "collapsed": true
   },
   "outputs": [],
   "source": [
    "# convert the pandas series (tweet text) to numpy array\n",
    "text = test_df.iloc[:, 2]\n",
    "tweet_text = np.array(text)"
   ]
  },
  {
   "cell_type": "markdown",
   "metadata": {},
   "source": [
    "Take the column of tweet text and convert to numpy array, for use in tfidf"
   ]
  },
  {
   "cell_type": "code",
   "execution_count": 5,
   "metadata": {
    "collapsed": false
   },
   "outputs": [
    {
     "name": "stdout",
     "output_type": "stream",
     "text": [
      "(240, 174)\n"
     ]
    }
   ],
   "source": [
    "def get_tfidf_model(texts, stop_words= None, slang_dict=None):\n",
    "    stop_words = stop_words_list()\n",
    "    vectorizer = TfidfVectorizer(tokenizer=lambda text: tokenize_and_lemmatize(text, slang_dict, stop_words),\n",
    "                                 stop_words=None,\n",
    "                                 max_df=0.9,\n",
    "                                 min_df=3,\n",
    "                                 lowercase=True,\n",
    "                                 decode_error='ignore',\n",
    "                                 )\n",
    "\n",
    "    #print (\"vocabulary_: \", vectorizer.vocabulary_)\n",
    "    \n",
    "    tfidf_model = vectorizer.fit_transform(texts)\n",
    "    return tfidf_model,vectorizer\n",
    "    \n",
    "\n",
    "slang_dict = read_in_dict(\"data/out_slang_map.csv\")\n",
    "tfidf_model, vectorizer = get_tfidf_model(tweet_text[:1000], stop_words_list(), slang_dict)\n",
    "\n",
    "print(tfidf_model.shape)"
   ]
  },
  {
   "cell_type": "code",
   "execution_count": 6,
   "metadata": {
    "collapsed": false
   },
   "outputs": [
    {
     "name": "stdout",
     "output_type": "stream",
     "text": [
      "GMM(covariance_type='diag', init_params='wmc', min_covar=0.001,\n",
      "  n_components=10, n_init=10, n_iter=500, params='wmc', random_state=None,\n",
      "  thresh=None, tol=0.001, verbose=0)\n"
     ]
    }
   ],
   "source": [
    "# gmm maximisation\n",
    "clf = mixture.GMM(n_components=10, n_iter=500, n_init=10)\n",
    "print (clf)"
   ]
  },
  {
   "cell_type": "markdown",
   "metadata": {},
   "source": [
    "Aikaki Information Criteria(AIC) and the Bayesian Information Criterion(BIC)"
   ]
  },
  {
   "cell_type": "code",
   "execution_count": 7,
   "metadata": {
    "collapsed": false
   },
   "outputs": [
    {
     "data": {
      "text/plain": [
       "<matplotlib.legend.Legend at 0x7f7d7b58add8>"
      ]
     },
     "execution_count": 7,
     "metadata": {},
     "output_type": "execute_result"
    },
    {
     "data": {
      "image/png": "[encoded data removed]",
      "text/plain": [
       "<matplotlib.figure.Figure at 0x7f7d81be5908>"
      ]
     },
     "metadata": {},
     "output_type": "display_data"
    }
   ],
   "source": [
    "n_estimators = np.arange(2,50, step=2)\n",
    "tfarray = tfidf_model.toarray()\n",
    "clfs = [mixture.GMM(n, n_iter=500).fit(tfarray) for n in n_estimators]\n",
    "bics = [clf.bic(tfarray) for clf in clfs]\n",
    "aics = [clf.aic(tfarray) for clf in clfs]\n",
    "\n",
    "plt.plot(n_estimators, bics, label= 'BIC')\n",
    "plt.plot(n_estimators, aics, label= 'AIC')\n",
    "plt.legend()"
   ]
  },
  {
   "cell_type": "code",
   "execution_count": 8,
   "metadata": {
    "collapsed": false
   },
   "outputs": [
    {
     "name": "stdout",
     "output_type": "stream",
     "text": [
      "n             bic              aic \n",
      "2             -130616              -133042\n",
      "3             -134066              -137707\n",
      "4             -143940              -148795\n",
      "5             -148037              -154108\n",
      "6             -153110              -160395\n",
      "7             -154532              -163032\n",
      "8             -156485              -166199\n",
      "9             -156562              -167491\n",
      "10             -156052              -168196\n",
      "11             -154777              -168136\n"
     ]
    },
    {
     "data": {
      "image/png": "[encoded data removed]",
      "text/plain": [
       "<matplotlib.figure.Figure at 0x7f7d7b55da58>"
      ]
     },
     "metadata": {},
     "output_type": "display_data"
    }
   ],
   "source": [
    "n_estimators = np.arange(2,12, step=1)\n",
    "tfarray = tfidf_model.toarray()\n",
    "clfs = [mixture.GMM(n, n_iter=500).fit(tfarray) for n in n_estimators]\n",
    "bics = [clf.bic(tfarray) for clf in clfs]\n",
    "aics = [clf.aic(tfarray) for clf in clfs]\n",
    "\n",
    "plt.plot(n_estimators, bics, label= 'BIC')\n",
    "plt.plot(n_estimators, aics, label= 'AIC')\n",
    "plt.legend()\n",
    "\n",
    "i = 1\n",
    "print(\"n             bic              aic \")\n",
    "for x, y in zip(bics, aics):\n",
    "    i += 1\n",
    "    print(\"%d             %d              %d\" % (i, x, y) )"
   ]
  },
  {
   "cell_type": "code",
   "execution_count": 9,
   "metadata": {
    "collapsed": false
   },
   "outputs": [],
   "source": [
    "# Log probabilities of each data point in tfarray\n",
    "clf = mixture.GMM(n_components=9, n_iter=500).fit(tfarray)\n",
    "#print( clf.score(tfarray))\n"
   ]
  },
  {
   "cell_type": "markdown",
   "metadata": {},
   "source": [
    "<hr>\n",
    "<b> GMM EM gives 8 clusters </b>\n"
   ]
  },
  {
   "cell_type": "code",
   "execution_count": 10,
   "metadata": {
    "collapsed": false
   },
   "outputs": [
    {
     "name": "stdout",
     "output_type": "stream",
     "text": [
      "Silhouette score                   : 0.110394\n",
      "Adjusted Rand Score                : 0.886416\n",
      "Adjusted Mutual Information Score  : 0.893883\n",
      "Normalized Mutual Information Score: 0.899985\n",
      "Normalized Mutual Information Score: 0.899985\n",
      "Homogeniety Score                  : 0.899522\n",
      "Completeness Score                 : 0.900449\n"
     ]
    }
   ],
   "source": [
    "# true labels\n",
    "t_labels = test_df.iloc[:, 1]\n",
    "\n",
    "# run k means :\n",
    "clusters = 8\n",
    "km_model = KMeans(n_clusters=clusters)\n",
    "cluster = km_model.fit_predict(tfidf_model)\n",
    "\n",
    "# result analysis :\n",
    "print(\"Silhouette score                   : %f\" % silhouette_score(tfidf_model, cluster, sample_size=2000))\n",
    "print(\"Adjusted Rand Score                : %f\" % metrics.adjusted_rand_score(t_labels, cluster))\n",
    "print(\"Adjusted Mutual Information Score  : %f\" % metrics.adjusted_mutual_info_score(t_labels, cluster))\n",
    "print(\"Normalized Mutual Information Score: %f\" % metrics.normalized_mutual_info_score(t_labels, cluster))\n",
    "print(\"Normalized Mutual Information Score: %f\" % metrics.normalized_mutual_info_score(t_labels, cluster))\n",
    "print(\"Homogeniety Score                  : %f\" % metrics.homogeneity_score(t_labels, cluster))\n",
    "print(\"Completeness Score                 : %f\" % metrics.completeness_score(t_labels, cluster))"
   ]
  },
  {
   "cell_type": "code",
   "execution_count": 11,
   "metadata": {
    "collapsed": false
   },
   "outputs": [
    {
     "name": "stdout",
     "output_type": "stream",
     "text": [
      "Cluster 0: art roger spring paint design knowledge world try terminal rich\n",
      "Cluster 1: politics fox trump news republican come many second win criticism\n",
      "Cluster 2: food roger recipe foodie amp good travel lifestyle wine terminal\n",
      "Cluster 3: music problem rock radio roger hiphop life live lt sundowner\n",
      "Cluster 4: sport shoe card size top onsale headset sweatproof good amazon\n",
      "Cluster 5: news iran roger full tech plant fertilizer police use man\n",
      "Cluster 6: fashion style amp roger dress clothing social ballychohan trend )t:\n",
      "Cluster 7: tv series roger tvseries review show amp trailer cable join\n"
     ]
    }
   ],
   "source": [
    "order_centroids = km_model.cluster_centers_.argsort()[:, ::-1]\n",
    "terms = vectorizer.get_feature_names()\n",
    "for i in range(clusters):\n",
    "    print(\"Cluster %d:\" % i, end='')\n",
    "    for ind in order_centroids[i, :10]:\n",
    "        print(' %s' % terms[ind], end='')\n",
    "    print()"
   ]
  },
  {
   "cell_type": "code",
   "execution_count": 12,
   "metadata": {
    "collapsed": false
   },
   "outputs": [
    {
     "name": "stdout",
     "output_type": "stream",
     "text": [
      "Silhouette score                   : 0.068147\n",
      "Adjusted Rand Score                : 0.414641\n",
      "Adjusted Mutual Information Score  : 0.488450\n",
      "Normalized Mutual Information Score: 0.520342\n",
      "Normalized Mutual Information Score: 0.520342\n",
      "Homogeniety Score                  : 0.515857\n",
      "Completeness Score                 : 0.524866\n"
     ]
    }
   ],
   "source": [
    "# run Birch:\n",
    "birch = Birch(n_clusters=clusters)\n",
    "cluster = birch.fit_predict(tfidf_model)\n",
    "\n",
    "# result analysis :\n",
    "print(\"Silhouette score                   : %f\" % silhouette_score(tfidf_model, cluster, sample_size=2000))\n",
    "print(\"Adjusted Rand Score                : %f\" % metrics.adjusted_rand_score(t_labels, cluster))\n",
    "print(\"Adjusted Mutual Information Score  : %f\" % metrics.adjusted_mutual_info_score(t_labels, cluster))\n",
    "print(\"Normalized Mutual Information Score: %f\" % metrics.normalized_mutual_info_score(t_labels, cluster))\n",
    "print(\"Normalized Mutual Information Score: %f\" % metrics.normalized_mutual_info_score(t_labels, cluster))\n",
    "print(\"Homogeniety Score                  : %f\" % metrics.homogeneity_score(t_labels, cluster))\n",
    "print(\"Completeness Score                 : %f\" % metrics.completeness_score(t_labels, cluster))"
   ]
  },
  {
   "cell_type": "code",
   "execution_count": 13,
   "metadata": {
    "collapsed": false
   },
   "outputs": [
    {
     "name": "stdout",
     "output_type": "stream",
     "text": [
      "Silhouette score                   : 0.084807\n",
      "Adjusted Rand Score                : 0.416139\n",
      "Adjusted Mutual Information Score  : 0.591144\n",
      "Normalized Mutual Information Score: 0.638504\n",
      "Normalized Mutual Information Score: 0.638504\n",
      "Homogeniety Score                  : 0.613463\n",
      "Completeness Score                 : 0.664567\n"
     ]
    }
   ],
   "source": [
    "# run SpectralClustering\n",
    "spectral = SpectralClustering(n_clusters=clusters,\n",
    "                                          eigen_solver='arpack',\n",
    "                                          affinity=\"nearest_neighbors\")\n",
    "cluster = spectral.fit_predict(tfidf_model)\n",
    "\n",
    "# result analysis :\n",
    "print(\"Silhouette score                   : %f\" % silhouette_score(tfidf_model, cluster, sample_size=2000))\n",
    "print(\"Adjusted Rand Score                : %f\" % metrics.adjusted_rand_score(t_labels, cluster))\n",
    "print(\"Adjusted Mutual Information Score  : %f\" % metrics.adjusted_mutual_info_score(t_labels, cluster))\n",
    "print(\"Normalized Mutual Information Score: %f\" % metrics.normalized_mutual_info_score(t_labels, cluster))\n",
    "print(\"Normalized Mutual Information Score: %f\" % metrics.normalized_mutual_info_score(t_labels, cluster))\n",
    "print(\"Homogeniety Score                  : %f\" % metrics.homogeneity_score(t_labels, cluster))\n",
    "print(\"Completeness Score                 : %f\" % metrics.completeness_score(t_labels, cluster))"
   ]
  },
  {
   "cell_type": "code",
   "execution_count": 14,
   "metadata": {
    "collapsed": false,
    "slideshow": {
     "slide_type": "-"
    }
   },
   "outputs": [
    {
     "name": "stdout",
     "output_type": "stream",
     "text": [
      "clusters by DBSCAN: 1\n",
      "Adjusted Rand Score                : 0.000000\n",
      "Adjusted Mutual Information Score  : 0.000000\n",
      "Normalized Mutual Information Score: 0.000004\n",
      "Normalized Mutual Information Score: 0.000004\n",
      "Homogeniety Score                  : 0.000000\n",
      "Completeness Score                 : 1.000000\n"
     ]
    }
   ],
   "source": [
    "# db scan\n",
    "dbscan = DBSCAN(eps=.2)\n",
    "cluster = dbscan.fit_predict(tfidf_model)\n",
    "print(\"clusters by DBSCAN: %d\" % len(set(cluster)))\n",
    "# result analysis :\n",
    "if len(set(cluster)) > 1 :\n",
    "    print(\"Silhouette score                   : %f\" % silhouette_score(tfidf_model, cluster, sample_size=2000))\n",
    "print(\"Adjusted Rand Score                : %f\" % metrics.adjusted_rand_score(t_labels, cluster))\n",
    "print(\"Adjusted Mutual Information Score  : %f\" % metrics.adjusted_mutual_info_score(t_labels, cluster))\n",
    "print(\"Normalized Mutual Information Score: %f\" % metrics.normalized_mutual_info_score(t_labels, cluster))\n",
    "print(\"Normalized Mutual Information Score: %f\" % metrics.normalized_mutual_info_score(t_labels, cluster))\n",
    "print(\"Homogeniety Score                  : %f\" % metrics.homogeneity_score(t_labels, cluster))\n",
    "print(\"Completeness Score                 : %f\" % metrics.completeness_score(t_labels, cluster))\n"
   ]
  },
  {
   "cell_type": "code",
   "execution_count": null,
   "metadata": {
    "collapsed": true
   },
   "outputs": [],
   "source": []
  },
  {
   "cell_type": "code",
   "execution_count": null,
   "metadata": {
    "collapsed": true
   },
   "outputs": [],
   "source": []
  }
 ],
 "metadata": {
  "kernelspec": {
   "display_name": "Python 3",
   "language": "python",
   "name": "python3"
  },
  "language_info": {
   "codemirror_mode": {
    "name": "ipython",
    "version": 3
   },
   "file_extension": ".py",
   "mimetype": "text/x-python",
   "name": "python",
   "nbconvert_exporter": "python",
   "pygments_lexer": "ipython3",
   "version": "3.5.1"
  }
 },
 "nbformat": 4,
 "nbformat_minor": 0
}
